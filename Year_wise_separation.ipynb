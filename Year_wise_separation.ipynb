{
  "nbformat": 4,
  "nbformat_minor": 0,
  "metadata": {
    "colab": {
      "provenance": [],
      "mount_file_id": "1asPWyyqFk8z1bQXnt0gP6zqF2-m5zZYg",
      "authorship_tag": "ABX9TyNHDdE6jhPtcCmwVZVlvj9S",
      "include_colab_link": true
    },
    "kernelspec": {
      "name": "python3",
      "display_name": "Python 3"
    },
    "language_info": {
      "name": "python"
    }
  },
  "cells": [
    {
      "cell_type": "markdown",
      "metadata": {
        "id": "view-in-github",
        "colab_type": "text"
      },
      "source": [
        "<a href=\"https://colab.research.google.com/github/nabeel-pdc/Yearwise-sequence-separation/blob/main/Year_wise_separation.ipynb\" target=\"_parent\"><img src=\"https://colab.research.google.com/assets/colab-badge.svg\" alt=\"Open In Colab\"/></a>"
      ]
    },
    {
      "cell_type": "code",
      "source": [
        "import os\n",
        "\n",
        "# set the file paths\n",
        "input_file_path = \"/content/drive/MyDrive/input.fasta\"\n",
        "output_file_path = \"/content/drive/MyDrive/output.fasta\"\n",
        "\n",
        "# read the input FASTA file\n",
        "sequences = []\n",
        "with open(input_file_path, \"r\") as input_file:\n",
        "    current_sequence = {\"header\": None, \"sequence\": \"\"}\n",
        "    for line in input_file:\n",
        "        if line.startswith(\">\"):  # header line\n",
        "            if current_sequence[\"header\"] is not None:  # save the current sequence\n",
        "                sequences.append(current_sequence)\n",
        "                current_sequence = {\"header\": None, \"sequence\": \"\"}\n",
        "            current_sequence[\"header\"] = line.strip()\n",
        "        else:  # sequence line\n",
        "            current_sequence[\"sequence\"] += line.strip()\n",
        "    # save the last sequence\n",
        "    sequences.append(current_sequence)\n",
        "\n",
        "# sort the sequences by date in descending order\n",
        "sorted_sequences = sorted(\n",
        "    sequences,\n",
        "    key=lambda s: s[\"header\"].split(\"/\")[1].split(\"-\")[0] if \"/\" in s[\"header\"] and len(s[\"header\"].split(\"/\")) > 1 and \"-\" in s[\"header\"].split(\"/\")[1] else \"\",\n",
        "    reverse=True\n",
        ")\n",
        "\n",
        "# write the output FASTA file\n",
        "with open(output_file_path, \"w\") as output_file:\n",
        "    for sequence in sorted_sequences:\n",
        "        output_file.write(sequence[\"header\"] + \"\\n\")\n",
        "        output_file.write(sequence[\"sequence\"] + \"\\n\")\n",
        "\n"
      ],
      "metadata": {
        "id": "64rddgrhoxRZ"
      },
      "execution_count": 14,
      "outputs": []
    }
  ]
}